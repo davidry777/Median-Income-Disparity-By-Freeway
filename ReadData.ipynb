{
 "cells": [
  {
   "cell_type": "code",
   "execution_count": 47,
   "metadata": {},
   "outputs": [],
   "source": [
    "import pandas as pd\n",
    "df = pd.read_csv(\"Data1.csv\")"
   ]
  },
  {
   "cell_type": "code",
   "execution_count": 48,
   "metadata": {},
   "outputs": [
    {
     "data": {
      "text/plain": [
       "GEO_ID                     object\n",
       "NAME                       object\n",
       "Median household income     int64\n",
       "Margin of Error             int64\n",
       "dtype: object"
      ]
     },
     "execution_count": 48,
     "metadata": {},
     "output_type": "execute_result"
    }
   ],
   "source": [
    "df = df[['GEO_ID', 'NAME', 'Median household income', 'Margin of Error']]\n",
    "df.dtypes"
   ]
  },
  {
   "cell_type": "code",
   "execution_count": 49,
   "metadata": {},
   "outputs": [],
   "source": [
    "df.to_csv(\"MedianIncomebyCountySubdivision2021.csv\")"
   ]
  },
  {
   "cell_type": "code",
   "execution_count": 55,
   "metadata": {},
   "outputs": [
    {
     "data": {
      "text/plain": [
       "GEO_ID                     object\n",
       "ZipCode                    object\n",
       "Median household income     int64\n",
       "Margin of Error             int64\n",
       "dtype: object"
      ]
     },
     "execution_count": 55,
     "metadata": {},
     "output_type": "execute_result"
    }
   ],
   "source": [
    "df = pd.read_csv(\"Data by ZipCode.csv\")\n",
    "df = df[['GEO_ID', 'NAME', 'Median household income', 'Margin of Error']]\n",
    "df[['excess', 'ZipCode']] = df[\"NAME\"].str.split(' ', expand = True)\n",
    "df = df[['GEO_ID', 'ZipCode', 'Median household income', 'Margin of Error']]\n",
    "df = df[df[\"Median household income\"] != '-']\n",
    "df = df.astype({\"Median household income\": 'int64', \"Margin of Error\": 'int64'})\n",
    "df.dtypes"
   ]
  },
  {
   "cell_type": "code",
   "execution_count": 57,
   "metadata": {},
   "outputs": [],
   "source": [
    "df.to_csv(\"MedianIncomebyZipCode2021.csv\")"
   ]
  }
 ],
 "metadata": {
  "kernelspec": {
   "display_name": "Python 3",
   "language": "python",
   "name": "python3"
  },
  "language_info": {
   "codemirror_mode": {
    "name": "ipython",
    "version": 3
   },
   "file_extension": ".py",
   "mimetype": "text/x-python",
   "name": "python",
   "nbconvert_exporter": "python",
   "pygments_lexer": "ipython3",
   "version": "3.9.13"
  },
  "orig_nbformat": 4
 },
 "nbformat": 4,
 "nbformat_minor": 2
}
